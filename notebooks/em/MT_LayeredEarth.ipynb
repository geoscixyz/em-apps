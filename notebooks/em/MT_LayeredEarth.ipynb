{
 "cells": [
  {
   "cell_type": "code",
   "execution_count": null,
   "metadata": {},
   "outputs": [],
   "source": [
    "from geoscilabs.em.MT import MT1D_app"
   ]
  },
  {
   "cell_type": "code",
   "execution_count": null,
   "metadata": {},
   "outputs": [],
   "source": [
    "from matplotlib import rcParams\n",
    "rcParams['font.size'] = 20"
   ]
  },
  {
   "cell_type": "markdown",
   "metadata": {},
   "source": [
    "# Magnetotelluric: Forward Modelling for 1 to 3 layers"
   ]
  },
  {
   "cell_type": "markdown",
   "metadata": {},
   "source": [
    "Here you can visualize Magnetotelluric (MT) response of a layered earth, up to 3 layers in this interactive notebook.\n",
    "- **fmin**: smallest measured frequency (Hz) \n",
    "- **fmax**: highest measured frequency (Hz)\n",
    "- **nbdata**: number of data points evenly spaced between **fmin** and **fmax** \n",
    "- **h** (i): thickness of the layer i. Put it to zero to remove one layer\n",
    "- **$\\rho_i$**: electrical resistivity of the layer i, in ohm-m\n",
    "- **$\\varepsilon_i$**: relative dielectric permittivity $\\varepsilon_r$ of the layer i\n",
    "- **$\\mu_i$**: relative magnetic permittivity $\\mu_r$ of the layer i\n",
    "- **Plot Envelope fields**: If activated (might be slow), plot the envelope of the E and H field for a given frequency (see fenvelope)\n",
    "- **F**: plot the envelope for of the waves at 'F' Hz"
   ]
  },
  {
   "cell_type": "code",
   "execution_count": null,
   "metadata": {
    "scrolled": false
   },
   "outputs": [],
   "source": [
    "MT1D_app()"
   ]
  },
  {
   "cell_type": "code",
   "execution_count": null,
   "metadata": {},
   "outputs": [],
   "source": []
  }
 ],
 "metadata": {
  "anaconda-cloud": {},
  "kernelspec": {
   "display_name": "Python 3 (ipykernel)",
   "language": "python",
   "name": "python3"
  },
  "language_info": {
   "codemirror_mode": {
    "name": "ipython",
    "version": 3
   },
   "file_extension": ".py",
   "mimetype": "text/x-python",
   "name": "python",
   "nbconvert_exporter": "python",
   "pygments_lexer": "ipython3",
   "version": "3.8.10"
  },
  "widgets": {
   "state": {
    "edab05a8629541f0ba6b6f254516fa0a": {
     "views": [
      {
       "cell_index": 3
      }
     ]
    }
   },
   "version": "1.2.0"
  }
 },
 "nbformat": 4,
 "nbformat_minor": 1
}
